{
 "cells": [
  {
   "cell_type": "code",
   "execution_count": null,
   "id": "67593b0d-1336-4d45-b079-a82bd4060a41",
   "metadata": {},
   "outputs": [],
   "source": [
    "convert_from = input(\"Enter Starting Unit of Measurement (inches, feet, yards): \")\n",
    "\n",
    "convert_to = input(\"Enter Unit of Measurement to Convert to (inches, feet, yards): \")\n",
    "\n",
    "number_of_inches = input(\"Enter starting measurement in inches: \")\n",
    "\n",
    "number_of_feet = input(\"Enter starting measurement in feet: \")\n",
    "\n",
    "number_of_yards = input(\"Enter starting measurement in yards: \")"
   ]
  },
  {
   "cell_type": "code",
   "execution_count": 71,
   "id": "42619e23-6606-4975-a1a5-7cc64e24fc7b",
   "metadata": {},
   "outputs": [
    {
     "name": "stdin",
     "output_type": "stream",
     "text": [
      "Enter Starting Unit of Measurement (inches, feet, yards):  feet\n",
      "Enter Unit of Measurement to Convert to (inches, feet, yards):  yards\n",
      "Enter starting measurement in feet:  5\n"
     ]
    },
    {
     "name": "stdout",
     "output_type": "stream",
     "text": [
      "Result: 5 feet = 1.67 yards\n"
     ]
    }
   ],
   "source": [
    "convert_from = input(\"Enter Starting Unit of Measurement (inches, feet, yards): \")\n",
    "convert_to = input(\"Enter Unit of Measurement to Convert to (inches, feet, yards): \")\n",
    "\n",
    "\n",
    "if convert_from.lower() == 'inches':\n",
    "    number_of_inches = int(input(\"Enter starting measurement in inches: \"))\n",
    "    if convert_to.lower() == 'feet':\n",
    "        print(\"Result: \" + str(number_of_inches) + \" inches = \" + str(round(number_of_inches / 12,2)) + \" Feet\")\n",
    "    elif convert_to.lower() == 'yards':\n",
    "        print(\"Result: \" + str(number_of_inches) + \" inches = \" + str(round(number_of_inches / 36,2)) + \" Yards\")\n",
    "    else:\n",
    "        print(\"Please enter either inches, feet, or yards\")\n",
    "elif convert_from.lower() == \"feet\":\n",
    "    number_of_feet = int(input(\"Enter starting measurement in feet: \"))\n",
    "    if convert_to.lower() == 'inches':\n",
    "        print(\"Result: \" + str(number_of_feet) + \" feet = \" + str(round(number_of_feet * 12)) + \" inches\")\n",
    "    elif convert_to.lower() == 'yards':\n",
    "        print(\"Result: \" + str(number_of_feet) + \" feet = \" + str(round(number_of_feet / 3,2)) + \" yards\")\n",
    "    else:\n",
    "        print(\"Please enter either inches, feet, or yards\")\n",
    "elif convert_from.lower() == \"yards\":\n",
    "    number_of_yards = int(input(\"Enter starting measurement in yards: \"))\n",
    "    if convert_to.lower() == 'inches':\n",
    "        print(\"Result: \" + str(number_of_yards) + \" yards = \" + str(round(number_of_yards * 36)) + \" inches\")\n",
    "    elif convert_to.lower() == 'feet':\n",
    "        print(\"Result: \" + str(number_of_yards) + \" yards = \" + str(round(number_of_yards * 3)) + \" feet\")\n",
    "    else:\n",
    "        print(\"Please enter either inches, feet, or yards\")\n",
    "else:\n",
    "        print(\"Please enter either inches, feet, or yards\")\n"
   ]
  },
  {
   "cell_type": "code",
   "execution_count": null,
   "id": "f639c53b-420a-4d74-aa86-4719212e599d",
   "metadata": {},
   "outputs": [],
   "source": []
  },
  {
   "cell_type": "code",
   "execution_count": null,
   "id": "4bc9cfb2-aa55-4ddf-bd93-a66e99707c0f",
   "metadata": {},
   "outputs": [],
   "source": []
  },
  {
   "cell_type": "code",
   "execution_count": null,
   "id": "46731f53-06c9-4943-96d1-f7ec1ada2363",
   "metadata": {},
   "outputs": [],
   "source": []
  },
  {
   "cell_type": "code",
   "execution_count": null,
   "id": "8a80a00d-2cdf-4c6e-9c7b-ff718afb80d6",
   "metadata": {},
   "outputs": [],
   "source": []
  },
  {
   "cell_type": "code",
   "execution_count": null,
   "id": "aa19bd56-f83f-485c-a92c-85c71c40ffff",
   "metadata": {},
   "outputs": [],
   "source": []
  },
  {
   "cell_type": "code",
   "execution_count": null,
   "id": "4ce02d77-ae3e-4182-b257-a9821d01ea84",
   "metadata": {},
   "outputs": [],
   "source": []
  },
  {
   "cell_type": "code",
   "execution_count": null,
   "id": "f9b6c97b-0949-47e9-8f44-5301a70c14eb",
   "metadata": {},
   "outputs": [],
   "source": []
  },
  {
   "cell_type": "code",
   "execution_count": null,
   "id": "de3a7a4b-d567-44a6-ac8e-c3444e4517f8",
   "metadata": {},
   "outputs": [],
   "source": []
  },
  {
   "cell_type": "code",
   "execution_count": null,
   "id": "b80955dd-5af8-4306-b923-279515c5dd4f",
   "metadata": {},
   "outputs": [],
   "source": []
  },
  {
   "cell_type": "code",
   "execution_count": null,
   "id": "f43e460c-6fa3-4276-8f7b-c9c94a4915e3",
   "metadata": {},
   "outputs": [],
   "source": []
  },
  {
   "cell_type": "code",
   "execution_count": null,
   "id": "e82fbb0c-2c34-411e-850f-8edf3e8867dc",
   "metadata": {},
   "outputs": [],
   "source": []
  },
  {
   "cell_type": "code",
   "execution_count": null,
   "id": "89383a3e-579b-43bf-b5dd-1fba3e5bd4e0",
   "metadata": {},
   "outputs": [],
   "source": []
  },
  {
   "cell_type": "code",
   "execution_count": null,
   "id": "76af74ab-cf58-4131-9ad8-ce2d9235cd80",
   "metadata": {},
   "outputs": [],
   "source": []
  },
  {
   "cell_type": "code",
   "execution_count": null,
   "id": "c89f60a0-e75f-4516-862d-f2d5ac255454",
   "metadata": {},
   "outputs": [],
   "source": []
  },
  {
   "cell_type": "code",
   "execution_count": null,
   "id": "a8986878-a213-41e1-a01e-203d1c8c393e",
   "metadata": {},
   "outputs": [],
   "source": []
  },
  {
   "cell_type": "code",
   "execution_count": null,
   "id": "f6682663-b3b5-4361-a8d3-9f0c159332df",
   "metadata": {},
   "outputs": [],
   "source": []
  },
  {
   "cell_type": "code",
   "execution_count": null,
   "id": "3023e0ae-31d6-4ab0-964f-e58bcfb35277",
   "metadata": {},
   "outputs": [],
   "source": []
  },
  {
   "cell_type": "code",
   "execution_count": null,
   "id": "93a099f1-deb6-4de5-bf97-82388c69da43",
   "metadata": {},
   "outputs": [],
   "source": []
  },
  {
   "cell_type": "code",
   "execution_count": null,
   "id": "0e96cb45-d3ba-4d80-84bd-138059ab939e",
   "metadata": {},
   "outputs": [],
   "source": []
  },
  {
   "cell_type": "code",
   "execution_count": null,
   "id": "e1238e2d-c64f-4e90-9532-533e2b2fe108",
   "metadata": {},
   "outputs": [],
   "source": []
  },
  {
   "cell_type": "code",
   "execution_count": null,
   "id": "b4231d54-78d6-4521-95cf-2ff88c8ffe2a",
   "metadata": {},
   "outputs": [],
   "source": []
  },
  {
   "cell_type": "code",
   "execution_count": null,
   "id": "1a9d0b6d-dff2-4a0c-adc6-db8b81439063",
   "metadata": {},
   "outputs": [],
   "source": []
  },
  {
   "cell_type": "code",
   "execution_count": null,
   "id": "088482c9-f5b4-4d5c-ac67-8cfbe869f92e",
   "metadata": {},
   "outputs": [],
   "source": []
  },
  {
   "cell_type": "code",
   "execution_count": null,
   "id": "448ff478-13b0-4511-b2c2-5aa0e8f0ea9f",
   "metadata": {},
   "outputs": [],
   "source": []
  },
  {
   "cell_type": "code",
   "execution_count": null,
   "id": "fccc472d-9ab3-4e80-bb56-8de3f2db62dd",
   "metadata": {},
   "outputs": [],
   "source": []
  },
  {
   "cell_type": "code",
   "execution_count": null,
   "id": "0058c85a-4ef7-4647-a53f-87517192523c",
   "metadata": {},
   "outputs": [],
   "source": []
  },
  {
   "cell_type": "code",
   "execution_count": null,
   "id": "e85b5a18-24c4-4fcd-97d6-007d19f90d05",
   "metadata": {},
   "outputs": [],
   "source": []
  },
  {
   "cell_type": "code",
   "execution_count": null,
   "id": "9da587ed-69c7-4b65-aa69-e6866b0ded3f",
   "metadata": {},
   "outputs": [],
   "source": []
  },
  {
   "cell_type": "code",
   "execution_count": null,
   "id": "68fcb940-cf10-4a5e-b080-20aee80cebd7",
   "metadata": {},
   "outputs": [],
   "source": []
  },
  {
   "cell_type": "code",
   "execution_count": null,
   "id": "91b80617-1b5f-4b13-8ce1-4fad7c70d055",
   "metadata": {},
   "outputs": [],
   "source": []
  },
  {
   "cell_type": "code",
   "execution_count": null,
   "id": "2f105723-d11e-4169-9f21-87044a8c861b",
   "metadata": {},
   "outputs": [],
   "source": []
  },
  {
   "cell_type": "code",
   "execution_count": null,
   "id": "9a053682-60c3-4d8e-8e6b-99e3d071e238",
   "metadata": {},
   "outputs": [],
   "source": []
  },
  {
   "cell_type": "code",
   "execution_count": null,
   "id": "42218d04-461e-4d53-bc50-c96d034055c1",
   "metadata": {},
   "outputs": [],
   "source": []
  },
  {
   "cell_type": "code",
   "execution_count": null,
   "id": "6f5c83ea-05a3-4657-9403-9d26f41bb700",
   "metadata": {},
   "outputs": [],
   "source": []
  },
  {
   "cell_type": "code",
   "execution_count": null,
   "id": "7ee9ad13-eed7-40ac-a0ba-9fb59b2573b1",
   "metadata": {},
   "outputs": [],
   "source": []
  },
  {
   "cell_type": "code",
   "execution_count": null,
   "id": "6a5c2b8e-7c8f-4a84-8a28-9366ea6fd7ce",
   "metadata": {},
   "outputs": [],
   "source": []
  },
  {
   "cell_type": "code",
   "execution_count": null,
   "id": "b3a41853-fa55-4433-b912-85013156e580",
   "metadata": {},
   "outputs": [],
   "source": []
  },
  {
   "cell_type": "code",
   "execution_count": null,
   "id": "b1b338b7-3a48-4e3f-8d79-86cc5d5d2fb1",
   "metadata": {},
   "outputs": [],
   "source": []
  },
  {
   "cell_type": "code",
   "execution_count": null,
   "id": "e953e2b6-ac18-412c-978b-b2d450b7c45f",
   "metadata": {},
   "outputs": [],
   "source": []
  },
  {
   "cell_type": "code",
   "execution_count": null,
   "id": "b435eaf9-39ee-4e0a-adfa-5b5bddb850b0",
   "metadata": {},
   "outputs": [],
   "source": []
  }
 ],
 "metadata": {
  "kernelspec": {
   "display_name": "Python [conda env:base] *",
   "language": "python",
   "name": "conda-base-py"
  },
  "language_info": {
   "codemirror_mode": {
    "name": "ipython",
    "version": 3
   },
   "file_extension": ".py",
   "mimetype": "text/x-python",
   "name": "python",
   "nbconvert_exporter": "python",
   "pygments_lexer": "ipython3",
   "version": "3.12.7"
  }
 },
 "nbformat": 4,
 "nbformat_minor": 5
}
